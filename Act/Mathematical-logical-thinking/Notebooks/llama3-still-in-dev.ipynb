{
 "cells": [
  {
   "cell_type": "markdown",
   "metadata": {},
   "source": [
    "OCR for detecting mathematical equations and questions, this work was inspired from this github page \n",
    "https://colab.research.google.com/github/NAMAA-ORG/public-notebooks/blob/main/Qari_Free_Colab.ipynb#scrollTo=gjPG3Kx_Wf39\n",
    "\n"
   ]
  },
  {
   "cell_type": "markdown",
   "metadata": {},
   "source": [
    "# Install required dependencies (if not already installed)\n",
    "# Import required libraries"
   ]
  },
  {
   "cell_type": "code",
   "execution_count": null,
   "metadata": {
    "vscode": {
     "languageId": "plaintext"
    }
   },
   "outputs": [],
   "source": [
    "!pip install transformers torch\n",
    "\n",
    "import torch\n",
    "from transformers import AutoTokenizer, AutoModelForSequenceClassification"
   ]
  },
  {
   "cell_type": "markdown",
   "metadata": {},
   "source": [
    "# Load BERT Tokenizer & Model\n"
   ]
  },
  {
   "cell_type": "code",
   "execution_count": null,
   "metadata": {
    "vscode": {
     "languageId": "plaintext"
    }
   },
   "outputs": [],
   "source": [
    "!pip install transformers qwen_vl_utils accelerate>=0.26.0 PEFT -U\n",
    "MODEL_NAME = \"Migga/ViT-BERT-Chess-V2\"\n",
    "tokenizer = AutoTokenizer.from_pretrained(MODEL_NAME)\n",
    "model = AutoModelForSequenceClassification.from_pretrained(MODEL_NAME)\n"
   ]
  },
  {
   "cell_type": "markdown",
   "metadata": {},
   "source": [
    "# Function to classify creativity in mathematical responses"
   ]
  },
  {
   "cell_type": "code",
   "execution_count": null,
   "metadata": {
    "vscode": {
     "languageId": "plaintext"
    }
   },
   "outputs": [],
   "source": [
    "def classify_creativity(math_response):\n",
    "    \"\"\"Uses ViT-BERT to classify if a student's response is creative or not.\"\"\"\n",
    "    inputs = tokenizer(math_response, return_tensors=\"pt\", padding=True, truncation=True)\n",
    "    with torch.no_grad():\n",
    "        outputs = model(**inputs)\n",
    "    \n",
    "    prediction = torch.argmax(outputs.logits, dim=-1).item()\n",
    "    \n",
    "    # Assuming labels: 0 = Non-Creative, 1 = Creative\n",
    "    return \"Creative 🎨\" if prediction == 1 else \"Not Creative ❌\"\n",
    "\n"
   ]
  },
  {
   "cell_type": "markdown",
   "metadata": {},
   "source": [
    "# Example responses"
   ]
  },
  {
   "cell_type": "code",
   "execution_count": null,
   "metadata": {
    "vscode": {
     "languageId": "plaintext"
    }
   },
   "outputs": [],
   "source": [
    "# Example responses\n",
    "math_responses = [\n",
    "    \"I solved 12 + 5 by using a number line and drawing a picture.\",\n",
    "    \"I memorized that 12 + 5 is 17.\",\n",
    "    \"Instead of adding, I broke 12 into 10+2 and then added 5 step by step.\"\n",
    "]\n",
    "\n",
    "# Test the function\n",
    "for response in math_responses:\n",
    "    result = classify_creativity(response)\n",
    "    print(f\"Response: {response}\\nCreativity: {result}\\n\")"
   ]
  }
 ],
 "metadata": {
  "language_info": {
   "name": "python"
  }
 },
 "nbformat": 4,
 "nbformat_minor": 2
}
