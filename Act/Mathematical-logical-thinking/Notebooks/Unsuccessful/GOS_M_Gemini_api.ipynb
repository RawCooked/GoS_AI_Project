{
  "nbformat": 4,
  "nbformat_minor": 0,
  "metadata": {
    "colab": {
      "provenance": []
    },
    "kernelspec": {
      "name": "python3",
      "display_name": "Python 3"
    },
    "language_info": {
      "name": "python"
    }
  },
  "cells": [
    {
      "cell_type": "code",
      "execution_count": 2,
      "metadata": {
        "id": "I7ImysC_eG1q"
      },
      "outputs": [],
      "source": [
        "# Install the updated Gemini SDK\n",
        "!pip install -q google-generativeai\n",
        "\n",
        "import google.generativeai as genai\n",
        "\n",
        "# 🔑 Use your API key\n",
        "API_KEY = \"YOURKEY\"\n",
        "genai.configure(api_key=API_KEY)\n",
        "\n",
        "# 🌟 Use Gemini 1.5 Pro (latest available as of now)\n",
        "model = genai.GenerativeModel(model_name=\"models/gemini-1.5-pro\")\n",
        "\n",
        "# 🧠 Preprompt\n",
        "preprompt = \"\"\"\n",
        "You are an expert in evaluating children's math answers.\n",
        "You must analyze the child's answer for correctness and creativity,\n",
        "and respond in the following JSON format:\n",
        "\n",
        "{\n",
        "  \"correctness\": \"\",        // correct / incorrect / partially correct\n",
        "  \"creativity\": \"\",         // none / low / medium / high\n",
        "  \"creativity_reason\": \"\",  // reason the answer shows or doesn't show creativity\n",
        "  \"reasoning\": \"\"           // explanation of the child’s logic\n",
        "}\n",
        "\"\"\"\n"
      ]
    },
    {
      "cell_type": "code",
      "source": [
        "\n",
        "# 📝 Question to evaluate\n",
        "question_prompt = \"\"\"\n",
        "Evaluate the child's answer.\n",
        "\n",
        "Question: \"If you have 5 apples and give 2 to your friend, how many do you have left?\"\n",
        "Answer: \"2\"\n",
        "\n",
        "Please respond in the JSON format described earlier.\n",
        "\"\"\"\n",
        "\n",
        "# 💡 Combine preprompt and task\n",
        "full_prompt = preprompt + \"\\n\\n\" + question_prompt\n",
        "\n",
        "# 💬 Generate response\n",
        "response = model.generate_content(full_prompt)\n",
        "\n",
        "# 🖨️ Print the output\n",
        "print(response.text)\n"
      ],
      "metadata": {
        "colab": {
          "base_uri": "https://localhost:8080/",
          "height": 193
        },
        "id": "88EQ-fPAefRp",
        "outputId": "9b1bfe0e-778d-44a1-a910-c75f7082a29e"
      },
      "execution_count": 4,
      "outputs": [
        {
          "output_type": "stream",
          "name": "stdout",
          "text": [
            "```json\n",
            "{\n",
            "  \"correctness\": \"incorrect\",\n",
            "  \"creativity\": \"none\",\n",
            "  \"creativity_reason\": \"The answer doesn't demonstrate any out-of-the-box thinking. It seems like a miscalculation rather than a creative approach.\",\n",
            "  \"reasoning\": \"The child likely misunderstood the question or made a subtraction error. Instead of subtracting 2 from 5 (5 - 2 = 3), they seem to have focused on the number of apples given away (2) rather than the number remaining.\"\n",
            "}\n",
            "```\n",
            "\n"
          ]
        }
      ]
    }
  ]
}
