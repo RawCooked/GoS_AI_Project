{
 "cells": [
  {
   "cell_type": "markdown",
   "id": "55ef5467",
   "metadata": {},
   "source": [
    "# 🔧 Fine-Tune TinyLlama on Colab (No HF Login, No LoRA, No Unsloth)"
   ]
  },
  {
   "cell_type": "code",
   "execution_count": null,
   "id": "1ee05f0d",
   "metadata": {},
   "outputs": [],
   "source": [
    "\n",
    "!pip install transformers datasets accelerate\n"
   ]
  },
  {
   "cell_type": "code",
   "execution_count": null,
   "id": "e147fdd3",
   "metadata": {},
   "outputs": [],
   "source": [
    "\n",
    "from transformers import AutoModelForCausalLM, AutoTokenizer\n",
    "\n",
    "model_id = \"TinyLlama/TinyLlama-1.1B-Chat-v1.0\"\n",
    "\n",
    "tokenizer = AutoTokenizer.from_pretrained(model_id, use_auth_token=False)\n",
    "model = AutoModelForCausalLM.from_pretrained(\n",
    "    model_id,\n",
    "    device_map=\"auto\",\n",
    "    torch_dtype=\"auto\"\n",
    ")\n"
   ]
  },
  {
   "cell_type": "code",
   "execution_count": null,
   "id": "edd707ac",
   "metadata": {},
   "outputs": [],
   "source": [
    "\n",
    "from datasets import Dataset\n",
    "\n",
    "data = [\n",
    "    {\"text\": \"### Question: What is 2 + 2?\\n### Answer: 4\"},\n",
    "    {\"text\": \"### Question: What is 3 + 5?\\n### Answer: 8\"},\n",
    "]\n",
    "\n",
    "dataset = Dataset.from_list(data)\n"
   ]
  },
  {
   "cell_type": "code",
   "execution_count": null,
   "id": "9b5b3117",
   "metadata": {},
   "outputs": [],
   "source": [
    "\n",
    "def tokenize(example):\n",
    "    return tokenizer(example[\"text\"], truncation=True, padding=\"max_length\", max_length=128)\n",
    "\n",
    "tokenized_dataset = dataset.map(tokenize)\n",
    "tokenized_dataset.set_format(type=\"torch\", columns=[\"input_ids\", \"attention_mask\"])\n"
   ]
  },
  {
   "cell_type": "code",
   "execution_count": null,
   "id": "024b3a57",
   "metadata": {},
   "outputs": [],
   "source": [
    "\n",
    "from transformers import Trainer, TrainingArguments, DataCollatorForLanguageModeling\n",
    "\n",
    "training_args = TrainingArguments(\n",
    "    output_dir=\"./model\",\n",
    "    per_device_train_batch_size=1,\n",
    "    num_train_epochs=2,\n",
    "    fp16=True,\n",
    "    logging_steps=1,\n",
    "    save_steps=10,\n",
    "    save_total_limit=1,\n",
    "    report_to=\"none\"\n",
    ")\n",
    "\n",
    "data_collator = DataCollatorForLanguageModeling(tokenizer=tokenizer, mlm=False)\n",
    "\n",
    "trainer = Trainer(\n",
    "    model=model,\n",
    "    args=training_args,\n",
    "    train_dataset=tokenized_dataset,\n",
    "    data_collator=data_collator,\n",
    ")\n",
    "\n",
    "trainer.train()\n"
   ]
  },
  {
   "cell_type": "code",
   "execution_count": null,
   "id": "71658baf",
   "metadata": {},
   "outputs": [],
   "source": [
    "\n",
    "model.save_pretrained(\"./model\")\n",
    "tokenizer.save_pretrained(\"./model\")\n"
   ]
  },
  {
   "cell_type": "code",
   "execution_count": null,
   "id": "83319007",
   "metadata": {},
   "outputs": [],
   "source": [
    "\n",
    "from transformers import pipeline\n",
    "\n",
    "pipe = pipeline(\"text-generation\", model=\"./model\", tokenizer=tokenizer)\n",
    "pipe(\"### Question: What is 10 + 5?\\n### Answer:\", max_new_tokens=50)\n"
   ]
  }
 ],
 "metadata": {},
 "nbformat": 4,
 "nbformat_minor": 5
}